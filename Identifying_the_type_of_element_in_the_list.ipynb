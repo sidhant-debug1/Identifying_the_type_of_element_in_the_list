{
 "cells": [
  {
   "cell_type": "code",
   "execution_count": 1,
   "id": "8de4c2c7-82f6-4870-9ba4-b1b3c2f2add4",
   "metadata": {},
   "outputs": [
    {
     "name": "stdout",
     "output_type": "stream",
     "text": [
      "Your item'1' is at 0 \n",
      "Your item'3' is at 1 \n",
      "Your item'Sidhant' is at 2 \n",
      "Your item'Amit' is at 3 \n",
      "Your item'None' is at 4 \n",
      "Your item'None' is at 5 \n",
      "Your item'Ayushman' is at 6 \n",
      "Your item'Madhukar' is at 7 \n",
      "Your item'Kunal' is at 8 \n",
      "Your item'Aryan' is at 9 \n",
      "Your item'False' is at 10 \n",
      "The List of numeric values is: ['1', '3', 'False']\n",
      "The List of strings value is: ['Sidhant', 'Amit', 'Ayushman', 'Madhukar', 'Kunal', 'Aryan']\n",
      "You have fooled me 2 times \n"
     ]
    }
   ],
   "source": [
    "collection1 = [1,3,'Sidhant','Amit',None,None]\n",
    "collection2 = ['Ayushman' , 'Madhukar', 'Kunal' , 'Aryan',False]\n",
    "new_collection = collection1 + collection2\n",
    "numeric_items = []\n",
    "str_items = []\n",
    "count = 0\n",
    "def count():\n",
    "    global count \n",
    "    count = 0\n",
    "    for items in new_collection:\n",
    "        if isinstance(items , (int,float)):\n",
    "            numeric_items.append(str(items))\n",
    "        elif isinstance(items , (str)):\n",
    "            str_items.append(str(items))\n",
    "        else:\n",
    "            count = count+ 1\n",
    "\n",
    "\n",
    "def index():\n",
    "    for index, item in enumerate(new_collection):\n",
    "        print(f\"Your item'{item}' is at {index} \")\n",
    "\n",
    "\n",
    "def main():\n",
    "    index()\n",
    "    count()    \n",
    "    print(\"The List of numeric values is:\", numeric_items)\n",
    "    print(\"The List of strings value is:\", str_items)\n",
    "    if count ==1:\n",
    "        print(f\"You have fooled me {count} time \")\n",
    "    else :\n",
    "        print(f\"You have fooled me {count} times \")\n",
    "\n",
    "main()"
   ]
  },
  {
   "cell_type": "code",
   "execution_count": null,
   "id": "510fa8e1-754d-4a65-ae37-36f9410e79ab",
   "metadata": {},
   "outputs": [],
   "source": []
  }
 ],
 "metadata": {
  "kernelspec": {
   "display_name": "Python 3 (ipykernel)",
   "language": "python",
   "name": "python3"
  },
  "language_info": {
   "codemirror_mode": {
    "name": "ipython",
    "version": 3
   },
   "file_extension": ".py",
   "mimetype": "text/x-python",
   "name": "python",
   "nbconvert_exporter": "python",
   "pygments_lexer": "ipython3",
   "version": "3.12.4"
  }
 },
 "nbformat": 4,
 "nbformat_minor": 5
}
